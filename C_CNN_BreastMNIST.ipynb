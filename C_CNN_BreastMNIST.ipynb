{
 "cells": [
  {
   "cell_type": "code",
   "execution_count": 2,
   "id": "42a338ab-f41d-416c-b630-daaa1fa58140",
   "metadata": {},
   "outputs": [
    {
     "name": "stdout",
     "output_type": "stream",
     "text": [
      "Using device:  cpu\n",
      "Amount of trainable parameters:  234034\n"
     ]
    },
    {
     "name": "stderr",
     "output_type": "stream",
     "text": [
      "  0%|                                                                | 0/50 [00:00<?, ?it/s]\n",
      "0it [00:00, ?it/s]\u001b[A\n",
      "1it [00:00,  9.01it/s]\u001b[A\n",
      "3it [00:00, 10.17it/s]\u001b[A\n",
      "5it [00:00, 12.08it/s]\u001b[A\n",
      "  2%|█                                                       | 1/50 [00:00<00:21,  2.27it/s]"
     ]
    },
    {
     "name": "stdout",
     "output_type": "stream",
     "text": [
      "Epoch [1/50], Step [5/5], Loss: 0.6256\n"
     ]
    },
    {
     "name": "stderr",
     "output_type": "stream",
     "text": [
      "\n",
      "0it [00:00, ?it/s]\u001b[A\n",
      "2it [00:00,  9.70it/s]\u001b[A\n",
      "3it [00:00,  9.60it/s]\u001b[A\n",
      "5it [00:00, 11.59it/s]\u001b[A\n",
      "  4%|██▏                                                     | 2/50 [00:00<00:21,  2.22it/s]"
     ]
    },
    {
     "name": "stdout",
     "output_type": "stream",
     "text": [
      "Epoch [2/50], Step [5/5], Loss: 0.5976\n"
     ]
    },
    {
     "name": "stderr",
     "output_type": "stream",
     "text": [
      "\n",
      "0it [00:00, ?it/s]\u001b[A\n",
      "2it [00:00, 11.26it/s]\u001b[A\n",
      "5it [00:00, 13.09it/s]\u001b[A\n",
      "  6%|███▎                                                    | 3/50 [00:01<00:20,  2.33it/s]"
     ]
    },
    {
     "name": "stdout",
     "output_type": "stream",
     "text": [
      "Epoch [3/50], Step [5/5], Loss: 0.4664\n"
     ]
    },
    {
     "name": "stderr",
     "output_type": "stream",
     "text": [
      "\n",
      "0it [00:00, ?it/s]\u001b[A\n",
      "2it [00:00, 11.66it/s]\u001b[A\n",
      "5it [00:00, 12.20it/s]\u001b[A\n",
      "  8%|████▍                                                   | 4/50 [00:01<00:19,  2.32it/s]"
     ]
    },
    {
     "name": "stdout",
     "output_type": "stream",
     "text": [
      "Epoch [4/50], Step [5/5], Loss: 0.5438\n"
     ]
    },
    {
     "name": "stderr",
     "output_type": "stream",
     "text": [
      "\n",
      "0it [00:00, ?it/s]\u001b[A\n",
      "2it [00:00, 11.84it/s]\u001b[A\n",
      "5it [00:00, 13.41it/s]\u001b[A\n",
      " 10%|█████▌                                                  | 5/50 [00:02<00:18,  2.39it/s]"
     ]
    },
    {
     "name": "stdout",
     "output_type": "stream",
     "text": [
      "Epoch [5/50], Step [5/5], Loss: 0.4857\n"
     ]
    },
    {
     "name": "stderr",
     "output_type": "stream",
     "text": [
      "\n",
      "0it [00:00, ?it/s]\u001b[A\n",
      "2it [00:00, 11.87it/s]\u001b[A\n",
      "5it [00:00, 13.15it/s]\u001b[A\n",
      " 12%|██████▋                                                 | 6/50 [00:02<00:18,  2.42it/s]"
     ]
    },
    {
     "name": "stdout",
     "output_type": "stream",
     "text": [
      "Epoch [6/50], Step [5/5], Loss: 0.5233\n"
     ]
    },
    {
     "name": "stderr",
     "output_type": "stream",
     "text": [
      "\n",
      "0it [00:00, ?it/s]\u001b[A\n",
      "2it [00:00,  9.50it/s]\u001b[A\n",
      "5it [00:00, 11.55it/s]\u001b[A\n",
      " 14%|███████▊                                                | 7/50 [00:02<00:18,  2.34it/s]"
     ]
    },
    {
     "name": "stdout",
     "output_type": "stream",
     "text": [
      "Epoch [7/50], Step [5/5], Loss: 0.4252\n"
     ]
    },
    {
     "name": "stderr",
     "output_type": "stream",
     "text": [
      "\n",
      "0it [00:00, ?it/s]\u001b[A\n",
      "1it [00:00,  9.44it/s]\u001b[A\n",
      "2it [00:00,  8.54it/s]\u001b[A\n",
      "3it [00:00,  8.40it/s]\u001b[A\n",
      "5it [00:00, 10.48it/s]\u001b[A\n",
      " 16%|████████▉                                               | 8/50 [00:03<00:18,  2.22it/s]"
     ]
    },
    {
     "name": "stdout",
     "output_type": "stream",
     "text": [
      "Epoch [8/50], Step [5/5], Loss: 0.3951\n"
     ]
    },
    {
     "name": "stderr",
     "output_type": "stream",
     "text": [
      "\n",
      "0it [00:00, ?it/s]\u001b[A\n",
      "1it [00:00,  9.88it/s]\u001b[A\n",
      "3it [00:00, 10.30it/s]\u001b[A\n",
      "5it [00:00, 11.95it/s]\u001b[A\n",
      " 18%|██████████                                              | 9/50 [00:03<00:18,  2.23it/s]"
     ]
    },
    {
     "name": "stdout",
     "output_type": "stream",
     "text": [
      "Epoch [9/50], Step [5/5], Loss: 0.4037\n"
     ]
    },
    {
     "name": "stderr",
     "output_type": "stream",
     "text": [
      "\n",
      "0it [00:00, ?it/s]\u001b[A\n",
      "2it [00:00, 10.57it/s]\u001b[A\n",
      "5it [00:00, 12.25it/s]\u001b[A\n",
      " 20%|███████████                                            | 10/50 [00:04<00:17,  2.26it/s]"
     ]
    },
    {
     "name": "stdout",
     "output_type": "stream",
     "text": [
      "Epoch [10/50], Step [5/5], Loss: 0.3118\n"
     ]
    },
    {
     "name": "stderr",
     "output_type": "stream",
     "text": [
      "\n",
      "0it [00:00, ?it/s]\u001b[A\n",
      "1it [00:00,  9.98it/s]\u001b[A\n",
      "3it [00:00, 10.55it/s]\u001b[A\n",
      "5it [00:00, 12.05it/s]\u001b[A\n",
      " 22%|████████████                                           | 11/50 [00:04<00:17,  2.25it/s]"
     ]
    },
    {
     "name": "stdout",
     "output_type": "stream",
     "text": [
      "Epoch [11/50], Step [5/5], Loss: 0.3395\n"
     ]
    },
    {
     "name": "stderr",
     "output_type": "stream",
     "text": [
      "\n",
      "0it [00:00, ?it/s]\u001b[A\n",
      "1it [00:00,  9.32it/s]\u001b[A\n",
      "3it [00:00, 10.20it/s]\u001b[A\n",
      "5it [00:00, 12.01it/s]\u001b[A\n",
      " 24%|█████████████▏                                         | 12/50 [00:05<00:16,  2.26it/s]"
     ]
    },
    {
     "name": "stdout",
     "output_type": "stream",
     "text": [
      "Epoch [12/50], Step [5/5], Loss: 0.2442\n"
     ]
    },
    {
     "name": "stderr",
     "output_type": "stream",
     "text": [
      "\n",
      "0it [00:00, ?it/s]\u001b[A\n",
      "2it [00:00, 10.98it/s]\u001b[A\n",
      "5it [00:00, 12.47it/s]\u001b[A\n",
      " 26%|██████████████▎                                        | 13/50 [00:05<00:16,  2.28it/s]"
     ]
    },
    {
     "name": "stdout",
     "output_type": "stream",
     "text": [
      "Epoch [13/50], Step [5/5], Loss: 0.3221\n"
     ]
    },
    {
     "name": "stderr",
     "output_type": "stream",
     "text": [
      "\n",
      "0it [00:00, ?it/s]\u001b[A\n",
      "2it [00:00, 10.74it/s]\u001b[A\n",
      "5it [00:00, 12.66it/s]\u001b[A\n",
      " 28%|███████████████▍                                       | 14/50 [00:06<00:15,  2.31it/s]"
     ]
    },
    {
     "name": "stdout",
     "output_type": "stream",
     "text": [
      "Epoch [14/50], Step [5/5], Loss: 0.2432\n"
     ]
    },
    {
     "name": "stderr",
     "output_type": "stream",
     "text": [
      "\n",
      "0it [00:00, ?it/s]\u001b[A\n",
      "2it [00:00, 10.48it/s]\u001b[A\n",
      "5it [00:00, 11.95it/s]\u001b[A\n",
      " 30%|████████████████▌                                      | 15/50 [00:06<00:15,  2.30it/s]"
     ]
    },
    {
     "name": "stdout",
     "output_type": "stream",
     "text": [
      "Epoch [15/50], Step [5/5], Loss: 0.2299\n"
     ]
    },
    {
     "name": "stderr",
     "output_type": "stream",
     "text": [
      "\n",
      "0it [00:00, ?it/s]\u001b[A\n",
      "2it [00:00, 10.97it/s]\u001b[A\n",
      "5it [00:00, 12.38it/s]\u001b[A\n",
      " 32%|█████████████████▌                                     | 16/50 [00:06<00:14,  2.31it/s]"
     ]
    },
    {
     "name": "stdout",
     "output_type": "stream",
     "text": [
      "Epoch [16/50], Step [5/5], Loss: 0.2196\n"
     ]
    },
    {
     "name": "stderr",
     "output_type": "stream",
     "text": [
      "\n",
      "0it [00:00, ?it/s]\u001b[A\n",
      "2it [00:00, 10.70it/s]\u001b[A\n",
      "5it [00:00, 12.29it/s]\u001b[A\n",
      " 34%|██████████████████▋                                    | 17/50 [00:07<00:14,  2.31it/s]"
     ]
    },
    {
     "name": "stdout",
     "output_type": "stream",
     "text": [
      "Epoch [17/50], Step [5/5], Loss: 0.1689\n"
     ]
    },
    {
     "name": "stderr",
     "output_type": "stream",
     "text": [
      "\n",
      "0it [00:00, ?it/s]\u001b[A\n",
      "2it [00:00, 11.09it/s]\u001b[A\n",
      "5it [00:00, 12.52it/s]\u001b[A\n",
      " 36%|███████████████████▊                                   | 18/50 [00:07<00:13,  2.33it/s]"
     ]
    },
    {
     "name": "stdout",
     "output_type": "stream",
     "text": [
      "Epoch [18/50], Step [5/5], Loss: 0.1539\n"
     ]
    },
    {
     "name": "stderr",
     "output_type": "stream",
     "text": [
      "\n",
      "0it [00:00, ?it/s]\u001b[A\n",
      "2it [00:00, 10.31it/s]\u001b[A\n",
      "5it [00:00, 11.45it/s]\u001b[A\n",
      " 38%|████████████████████▉                                  | 19/50 [00:08<00:13,  2.28it/s]"
     ]
    },
    {
     "name": "stdout",
     "output_type": "stream",
     "text": [
      "Epoch [19/50], Step [5/5], Loss: 0.1015\n"
     ]
    },
    {
     "name": "stderr",
     "output_type": "stream",
     "text": [
      "\n",
      "0it [00:00, ?it/s]\u001b[A\n",
      "2it [00:00, 11.02it/s]\u001b[A\n",
      "5it [00:00, 13.21it/s]\u001b[A\n",
      " 40%|██████████████████████                                 | 20/50 [00:08<00:12,  2.34it/s]"
     ]
    },
    {
     "name": "stdout",
     "output_type": "stream",
     "text": [
      "Epoch [20/50], Step [5/5], Loss: 0.0998\n"
     ]
    },
    {
     "name": "stderr",
     "output_type": "stream",
     "text": [
      "\n",
      "0it [00:00, ?it/s]\u001b[A\n",
      "2it [00:00, 11.77it/s]\u001b[A\n",
      "5it [00:00, 13.58it/s]\u001b[A\n",
      " 42%|███████████████████████                                | 21/50 [00:09<00:12,  2.40it/s]"
     ]
    },
    {
     "name": "stdout",
     "output_type": "stream",
     "text": [
      "Epoch [21/50], Step [5/5], Loss: 0.0791\n"
     ]
    },
    {
     "name": "stderr",
     "output_type": "stream",
     "text": [
      "\n",
      "0it [00:00, ?it/s]\u001b[A\n",
      "2it [00:00, 11.67it/s]\u001b[A\n",
      "5it [00:00, 13.63it/s]\u001b[A\n",
      " 44%|████████████████████████▏                              | 22/50 [00:09<00:11,  2.45it/s]"
     ]
    },
    {
     "name": "stdout",
     "output_type": "stream",
     "text": [
      "Epoch [22/50], Step [5/5], Loss: 0.0488\n"
     ]
    },
    {
     "name": "stderr",
     "output_type": "stream",
     "text": [
      "\n",
      "0it [00:00, ?it/s]\u001b[A\n",
      "2it [00:00, 11.54it/s]\u001b[A\n",
      "5it [00:00, 13.42it/s]\u001b[A\n",
      " 46%|█████████████████████████▎                             | 23/50 [00:09<00:10,  2.47it/s]"
     ]
    },
    {
     "name": "stdout",
     "output_type": "stream",
     "text": [
      "Epoch [23/50], Step [5/5], Loss: 0.0702\n"
     ]
    },
    {
     "name": "stderr",
     "output_type": "stream",
     "text": [
      "\n",
      "0it [00:00, ?it/s]\u001b[A\n",
      "2it [00:00, 11.68it/s]\u001b[A\n",
      "5it [00:00, 13.48it/s]\u001b[A\n",
      " 48%|██████████████████████████▍                            | 24/50 [00:10<00:10,  2.49it/s]"
     ]
    },
    {
     "name": "stdout",
     "output_type": "stream",
     "text": [
      "Epoch [24/50], Step [5/5], Loss: 0.0275\n"
     ]
    },
    {
     "name": "stderr",
     "output_type": "stream",
     "text": [
      "\n",
      "0it [00:00, ?it/s]\u001b[A\n",
      "2it [00:00, 11.76it/s]\u001b[A\n",
      "5it [00:00, 13.39it/s]\u001b[A\n",
      " 50%|███████████████████████████▌                           | 25/50 [00:10<00:09,  2.50it/s]"
     ]
    },
    {
     "name": "stdout",
     "output_type": "stream",
     "text": [
      "Epoch [25/50], Step [5/5], Loss: 0.0276\n"
     ]
    },
    {
     "name": "stderr",
     "output_type": "stream",
     "text": [
      "\n",
      "0it [00:00, ?it/s]\u001b[A\n",
      "2it [00:00,  9.62it/s]\u001b[A\n",
      "3it [00:00,  8.76it/s]\u001b[A\n",
      "5it [00:00, 10.91it/s]\u001b[A\n",
      " 52%|████████████████████████████▌                          | 26/50 [00:11<00:10,  2.36it/s]"
     ]
    },
    {
     "name": "stdout",
     "output_type": "stream",
     "text": [
      "Epoch [26/50], Step [5/5], Loss: 0.0266\n"
     ]
    },
    {
     "name": "stderr",
     "output_type": "stream",
     "text": [
      "\n",
      "0it [00:00, ?it/s]\u001b[A\n",
      "2it [00:00, 11.74it/s]\u001b[A\n",
      "5it [00:00, 13.39it/s]\u001b[A\n",
      " 54%|█████████████████████████████▋                         | 27/50 [00:11<00:09,  2.41it/s]"
     ]
    },
    {
     "name": "stdout",
     "output_type": "stream",
     "text": [
      "Epoch [27/50], Step [5/5], Loss: 0.0220\n"
     ]
    },
    {
     "name": "stderr",
     "output_type": "stream",
     "text": [
      "\n",
      "0it [00:00, ?it/s]\u001b[A\n",
      "2it [00:00, 11.81it/s]\u001b[A\n",
      "5it [00:00, 13.59it/s]\u001b[A\n",
      " 56%|██████████████████████████████▊                        | 28/50 [00:11<00:08,  2.45it/s]"
     ]
    },
    {
     "name": "stdout",
     "output_type": "stream",
     "text": [
      "Epoch [28/50], Step [5/5], Loss: 0.0196\n"
     ]
    },
    {
     "name": "stderr",
     "output_type": "stream",
     "text": [
      "\n",
      "0it [00:00, ?it/s]\u001b[A\n",
      "2it [00:00, 11.51it/s]\u001b[A\n",
      "5it [00:00, 13.36it/s]\u001b[A\n",
      " 58%|███████████████████████████████▉                       | 29/50 [00:12<00:08,  2.47it/s]"
     ]
    },
    {
     "name": "stdout",
     "output_type": "stream",
     "text": [
      "Epoch [29/50], Step [5/5], Loss: 0.0124\n"
     ]
    },
    {
     "name": "stderr",
     "output_type": "stream",
     "text": [
      "\n",
      "0it [00:00, ?it/s]\u001b[A\n",
      "2it [00:00, 11.74it/s]\u001b[A\n",
      "5it [00:00, 13.54it/s]\u001b[A\n",
      " 60%|█████████████████████████████████                      | 30/50 [00:12<00:08,  2.50it/s]"
     ]
    },
    {
     "name": "stdout",
     "output_type": "stream",
     "text": [
      "Epoch [30/50], Step [5/5], Loss: 0.0222\n"
     ]
    },
    {
     "name": "stderr",
     "output_type": "stream",
     "text": [
      "\n",
      "0it [00:00, ?it/s]\u001b[A\n",
      "2it [00:00, 11.56it/s]\u001b[A\n",
      "5it [00:00, 13.38it/s]\u001b[A\n",
      " 62%|██████████████████████████████████                     | 31/50 [00:13<00:07,  2.50it/s]"
     ]
    },
    {
     "name": "stdout",
     "output_type": "stream",
     "text": [
      "Epoch [31/50], Step [5/5], Loss: 0.0178\n"
     ]
    },
    {
     "name": "stderr",
     "output_type": "stream",
     "text": [
      "\n",
      "0it [00:00, ?it/s]\u001b[A\n",
      "2it [00:00, 11.69it/s]\u001b[A\n",
      "5it [00:00, 13.56it/s]\u001b[A\n",
      " 64%|███████████████████████████████████▏                   | 32/50 [00:13<00:07,  2.52it/s]"
     ]
    },
    {
     "name": "stdout",
     "output_type": "stream",
     "text": [
      "Epoch [32/50], Step [5/5], Loss: 0.0093\n"
     ]
    },
    {
     "name": "stderr",
     "output_type": "stream",
     "text": [
      "\n",
      "0it [00:00, ?it/s]\u001b[A\n",
      "2it [00:00, 11.75it/s]\u001b[A\n",
      "5it [00:00, 13.49it/s]\u001b[A\n",
      " 66%|████████████████████████████████████▎                  | 33/50 [00:13<00:06,  2.53it/s]"
     ]
    },
    {
     "name": "stdout",
     "output_type": "stream",
     "text": [
      "Epoch [33/50], Step [5/5], Loss: 0.0066\n"
     ]
    },
    {
     "name": "stderr",
     "output_type": "stream",
     "text": [
      "\n",
      "0it [00:00, ?it/s]\u001b[A\n",
      "2it [00:00, 11.77it/s]\u001b[A\n",
      "5it [00:00, 13.65it/s]\u001b[A\n",
      " 68%|█████████████████████████████████████▍                 | 34/50 [00:14<00:06,  2.54it/s]"
     ]
    },
    {
     "name": "stdout",
     "output_type": "stream",
     "text": [
      "Epoch [34/50], Step [5/5], Loss: 0.0108\n"
     ]
    },
    {
     "name": "stderr",
     "output_type": "stream",
     "text": [
      "\n",
      "0it [00:00, ?it/s]\u001b[A\n",
      "2it [00:00, 11.50it/s]\u001b[A\n",
      "5it [00:00, 13.08it/s]\u001b[A\n",
      " 70%|██████████████████████████████████████▌                | 35/50 [00:14<00:05,  2.52it/s]"
     ]
    },
    {
     "name": "stdout",
     "output_type": "stream",
     "text": [
      "Epoch [35/50], Step [5/5], Loss: 0.0050\n"
     ]
    },
    {
     "name": "stderr",
     "output_type": "stream",
     "text": [
      "\n",
      "0it [00:00, ?it/s]\u001b[A\n",
      "1it [00:00,  9.78it/s]\u001b[A\n",
      "3it [00:00, 10.58it/s]\u001b[A\n",
      "5it [00:00, 12.10it/s]\u001b[A\n",
      " 72%|███████████████████████████████████████▌               | 36/50 [00:15<00:05,  2.44it/s]"
     ]
    },
    {
     "name": "stdout",
     "output_type": "stream",
     "text": [
      "Epoch [36/50], Step [5/5], Loss: 0.0089\n"
     ]
    },
    {
     "name": "stderr",
     "output_type": "stream",
     "text": [
      "\n",
      "0it [00:00, ?it/s]\u001b[A\n",
      "2it [00:00, 10.64it/s]\u001b[A\n",
      "5it [00:00, 11.87it/s]\u001b[A\n",
      " 74%|████████████████████████████████████████▋              | 37/50 [00:15<00:05,  2.38it/s]"
     ]
    },
    {
     "name": "stdout",
     "output_type": "stream",
     "text": [
      "Epoch [37/50], Step [5/5], Loss: 0.0047\n"
     ]
    },
    {
     "name": "stderr",
     "output_type": "stream",
     "text": [
      "\n",
      "0it [00:00, ?it/s]\u001b[A\n",
      "2it [00:00, 11.77it/s]\u001b[A\n",
      "5it [00:00, 13.34it/s]\u001b[A\n",
      " 76%|█████████████████████████████████████████▊             | 38/50 [00:15<00:04,  2.42it/s]"
     ]
    },
    {
     "name": "stdout",
     "output_type": "stream",
     "text": [
      "Epoch [38/50], Step [5/5], Loss: 0.0045\n"
     ]
    },
    {
     "name": "stderr",
     "output_type": "stream",
     "text": [
      "\n",
      "0it [00:00, ?it/s]\u001b[A\n",
      "2it [00:00, 11.42it/s]\u001b[A\n",
      "5it [00:00, 13.29it/s]\u001b[A\n",
      " 78%|██████████████████████████████████████████▉            | 39/50 [00:16<00:04,  2.44it/s]"
     ]
    },
    {
     "name": "stdout",
     "output_type": "stream",
     "text": [
      "Epoch [39/50], Step [5/5], Loss: 0.0057\n"
     ]
    },
    {
     "name": "stderr",
     "output_type": "stream",
     "text": [
      "\n",
      "0it [00:00, ?it/s]\u001b[A\n",
      "2it [00:00,  9.89it/s]\u001b[A\n",
      "5it [00:00, 12.21it/s]\u001b[A\n",
      " 80%|████████████████████████████████████████████           | 40/50 [00:16<00:04,  2.40it/s]"
     ]
    },
    {
     "name": "stdout",
     "output_type": "stream",
     "text": [
      "Epoch [40/50], Step [5/5], Loss: 0.0080\n"
     ]
    },
    {
     "name": "stderr",
     "output_type": "stream",
     "text": [
      "\n",
      "0it [00:00, ?it/s]\u001b[A\n",
      "2it [00:00, 11.63it/s]\u001b[A\n",
      "5it [00:00, 13.35it/s]\u001b[A\n",
      " 82%|█████████████████████████████████████████████          | 41/50 [00:17<00:03,  2.44it/s]"
     ]
    },
    {
     "name": "stdout",
     "output_type": "stream",
     "text": [
      "Epoch [41/50], Step [5/5], Loss: 0.0033\n"
     ]
    },
    {
     "name": "stderr",
     "output_type": "stream",
     "text": [
      "\n",
      "0it [00:00, ?it/s]\u001b[A\n",
      "2it [00:00, 11.70it/s]\u001b[A\n",
      "5it [00:00, 13.17it/s]\u001b[A\n",
      " 84%|██████████████████████████████████████████████▏        | 42/50 [00:17<00:03,  2.45it/s]"
     ]
    },
    {
     "name": "stdout",
     "output_type": "stream",
     "text": [
      "Epoch [42/50], Step [5/5], Loss: 0.0032\n"
     ]
    },
    {
     "name": "stderr",
     "output_type": "stream",
     "text": [
      "\n",
      "0it [00:00, ?it/s]\u001b[A\n",
      "1it [00:00,  9.79it/s]\u001b[A\n",
      "3it [00:00, 11.02it/s]\u001b[A\n",
      "5it [00:00, 12.84it/s]\u001b[A\n",
      " 86%|███████████████████████████████████████████████▎       | 43/50 [00:18<00:02,  2.44it/s]"
     ]
    },
    {
     "name": "stdout",
     "output_type": "stream",
     "text": [
      "Epoch [43/50], Step [5/5], Loss: 0.0038\n"
     ]
    },
    {
     "name": "stderr",
     "output_type": "stream",
     "text": [
      "\n",
      "0it [00:00, ?it/s]\u001b[A\n",
      "2it [00:00, 11.49it/s]\u001b[A\n",
      "5it [00:00, 13.37it/s]\u001b[A\n",
      " 88%|████████████████████████████████████████████████▍      | 44/50 [00:18<00:02,  2.47it/s]"
     ]
    },
    {
     "name": "stdout",
     "output_type": "stream",
     "text": [
      "Epoch [44/50], Step [5/5], Loss: 0.0027\n"
     ]
    },
    {
     "name": "stderr",
     "output_type": "stream",
     "text": [
      "\n",
      "0it [00:00, ?it/s]\u001b[A\n",
      "2it [00:00, 11.66it/s]\u001b[A\n",
      "5it [00:00, 12.49it/s]\u001b[A\n",
      " 90%|█████████████████████████████████████████████████▌     | 45/50 [00:18<00:02,  2.44it/s]"
     ]
    },
    {
     "name": "stdout",
     "output_type": "stream",
     "text": [
      "Epoch [45/50], Step [5/5], Loss: 0.0040\n"
     ]
    },
    {
     "name": "stderr",
     "output_type": "stream",
     "text": [
      "\n",
      "0it [00:00, ?it/s]\u001b[A\n",
      "2it [00:00, 10.38it/s]\u001b[A\n",
      "5it [00:00, 12.30it/s]\u001b[A\n",
      " 92%|██████████████████████████████████████████████████▌    | 46/50 [00:19<00:01,  2.40it/s]"
     ]
    },
    {
     "name": "stdout",
     "output_type": "stream",
     "text": [
      "Epoch [46/50], Step [5/5], Loss: 0.0022\n"
     ]
    },
    {
     "name": "stderr",
     "output_type": "stream",
     "text": [
      "\n",
      "0it [00:00, ?it/s]\u001b[A\n",
      "1it [00:00,  9.81it/s]\u001b[A\n",
      "3it [00:00, 11.06it/s]\u001b[A\n",
      "5it [00:00, 12.85it/s]\u001b[A\n",
      " 94%|███████████████████████████████████████████████████▋   | 47/50 [00:19<00:01,  2.41it/s]"
     ]
    },
    {
     "name": "stdout",
     "output_type": "stream",
     "text": [
      "Epoch [47/50], Step [5/5], Loss: 0.0013\n"
     ]
    },
    {
     "name": "stderr",
     "output_type": "stream",
     "text": [
      "\n",
      "0it [00:00, ?it/s]\u001b[A\n",
      "2it [00:00, 11.70it/s]\u001b[A\n",
      "5it [00:00, 13.43it/s]\u001b[A\n",
      " 96%|████████████████████████████████████████████████████▊  | 48/50 [00:20<00:00,  2.44it/s]"
     ]
    },
    {
     "name": "stdout",
     "output_type": "stream",
     "text": [
      "Epoch [48/50], Step [5/5], Loss: 0.0017\n"
     ]
    },
    {
     "name": "stderr",
     "output_type": "stream",
     "text": [
      "\n",
      "0it [00:00, ?it/s]\u001b[A\n",
      "2it [00:00, 11.66it/s]\u001b[A\n",
      "5it [00:00, 13.08it/s]\u001b[A\n",
      " 98%|█████████████████████████████████████████████████████▉ | 49/50 [00:20<00:00,  2.45it/s]"
     ]
    },
    {
     "name": "stdout",
     "output_type": "stream",
     "text": [
      "Epoch [49/50], Step [5/5], Loss: 0.0031\n"
     ]
    },
    {
     "name": "stderr",
     "output_type": "stream",
     "text": [
      "\n",
      "0it [00:00, ?it/s]\u001b[A\n",
      "2it [00:00, 11.17it/s]\u001b[A\n",
      "5it [00:00, 10.39it/s]\u001b[A\n",
      "100%|███████████████████████████████████████████████████████| 50/50 [00:20<00:00,  2.38it/s]"
     ]
    },
    {
     "name": "stdout",
     "output_type": "stream",
     "text": [
      "Epoch [50/50], Step [5/5], Loss: 0.0027\n",
      "Saved model at  saved_models/cnn_trained_model\n"
     ]
    },
    {
     "name": "stderr",
     "output_type": "stream",
     "text": [
      "\n"
     ]
    },
    {
     "data": {
      "image/png": "[encoded data removed]",
      "text/plain": [
       "<Figure size 640x480 with 1 Axes>"
      ]
     },
     "metadata": {},
     "output_type": "display_data"
    },
    {
     "data": {
      "image/png": "[encoded data removed]",
      "text/plain": [
       "<Figure size 640x480 with 1 Axes>"
      ]
     },
     "metadata": {},
     "output_type": "display_data"
    },
    {
     "name": "stdout",
     "output_type": "stream",
     "text": [
      "Final validation accuracy:  0.9487179487179487\n",
      "Test metrics  Area under curve (AUC): 0.9052  Accuracy (ACC): 0.8654 F1-Score: 0.9114\n"
     ]
    }
   ],
   "source": [
    "import torch\n",
    "import torch.nn as nn\n",
    "import torch.nn.functional as F\n",
    "import torchvision\n",
    "import torchvision.transforms as transforms\n",
    "from tqdm import tqdm\n",
    "from CNN_model import CNN_Net\n",
    "import medmnist\n",
    "import matplotlib.pyplot as plt\n",
    "import pickle\n",
    "from sklearn.metrics import f1_score\n",
    "\n",
    "device = torch.device('cuda' if torch.cuda.is_available() else 'cpu')\n",
    "print(\"Using device: \", device)\n",
    "\n",
    "\n",
    "### CONSTANTS ###\n",
    "NUM_EPOCHS = 50\n",
    "LEARNING_RATE = 0.0001\n",
    "BATCH_SIZE = 128\n",
    "NUM_OUTPUT_CLASSES = 2\n",
    "\n",
    "### FLAGS ###\n",
    "MODEL_ARCH = \"CNN\"  # Model to use: \"CNN\"\n",
    "SAVE_OR_LOAD = \"SAVE\"  # \"SAVE\" to save, \"LOAD\" to load, None to disable\n",
    "MODEL_PATH = \"saved_models/cnn_trained_model\"  # Path to load/save\n",
    "\n",
    "# Load MedMNIST data\n",
    "cancer_info = medmnist.INFO[\"breastmnist\"]  # Binary classification 1x28x28\n",
    "labels = cancer_info['label']  # {'0': 'malignant', '1': 'normal, benign'}\n",
    "data_file = medmnist.BreastMNIST\n",
    "\n",
    "transform = transforms.Compose([transforms.ToTensor(), transforms.Normalize(mean=[0.3303], std=[0.2056])])\n",
    "\n",
    "train_set = data_file(split='train', transform=transform, download=False)  # Set download=True for first run if needed\n",
    "train_loader = torch.utils.data.DataLoader(dataset=train_set, batch_size=BATCH_SIZE, shuffle=True)\n",
    "test_set = data_file(split='test', transform=transform, download=False)\n",
    "test_loader = torch.utils.data.DataLoader(dataset=test_set, batch_size=BATCH_SIZE, shuffle=False)\n",
    "val_set = data_file(split='val', transform=transform, download=False)\n",
    "val_loader = torch.utils.data.DataLoader(dataset=val_set, batch_size=BATCH_SIZE, shuffle=False)\n",
    "\n",
    "\n",
    "# Initialize the CNN model\n",
    "model = CNN_Net(in_channels=1, num_classes=NUM_OUTPUT_CLASSES).to(device)\n",
    "\n",
    "print(\"Amount of trainable parameters: \", sum(p.numel() for p in model.parameters() if p.requires_grad))\n",
    "\n",
    "\n",
    "### TRAINING SECTION ###\n",
    "\n",
    "# Loss and optimizer\n",
    "criterion = nn.CrossEntropyLoss()\n",
    "optimizer = torch.optim.Adam(model.parameters(), lr=LEARNING_RATE)  \n",
    "\n",
    "# Record loss/accuracy for graphs later\n",
    "train_loss_dict = {}\n",
    "train_acc_dict = {}\n",
    "val_acc_dict = {}\n",
    "\n",
    "if SAVE_OR_LOAD == \"LOAD\":\n",
    "    print(\"Loading presaved model at \", MODEL_PATH)\n",
    "    model.load_state_dict(torch.load(MODEL_PATH))\n",
    "    with open(MODEL_PATH + \"_train_data\", 'rb') as handle:\n",
    "        train_loss_dict, train_acc_dict, val_acc_dict = pickle.load(handle)\n",
    "else:\n",
    "    n_total_steps = len(train_loader)\n",
    "    for epoch in tqdm(range(NUM_EPOCHS)):\n",
    "\n",
    "        model.train()\n",
    "        # Keep track of metrics as we go along\n",
    "        train_loss, train_count = 0, 0\n",
    "        n_train_correct, n_train_samples = 0, 0\n",
    "        n_val_correct, n_val_samples = 0, 0\n",
    "\n",
    "        for i, (images, labels) in tqdm(enumerate(train_loader)):  \n",
    "            # Put data on GPU before running\n",
    "            images = images.to(device)\n",
    "            labels = labels.to(device)\n",
    "\n",
    "            labels = labels.squeeze().long()\n",
    "            \n",
    "            outputs = model(images)\n",
    "            loss = criterion(outputs, labels)\n",
    "\n",
    "            predicted = torch.argmax(outputs.data, 1)\n",
    "            \n",
    "            # Store training loss and accuracy\n",
    "            n_train_samples += labels.size(0)\n",
    "            n_train_correct += (predicted == labels).sum().item()\n",
    "            \n",
    "            train_loss += loss.item()\n",
    "            train_count += 1\n",
    "            \n",
    "            optimizer.zero_grad()\n",
    "            loss.backward()\n",
    "            optimizer.step()\n",
    "            \n",
    "            if (i+1) % 5 == 0:\n",
    "                print(f'Epoch [{epoch+1}/{NUM_EPOCHS}], Step [{i+1}/{n_total_steps}], Loss: {loss.item():.4f}')\n",
    "                \n",
    "        train_loss_dict[epoch] = train_loss / train_count\n",
    "        train_acc_dict[epoch] = n_train_correct / n_train_samples\n",
    "\n",
    "        # Test model on validation set every epoch and record accuracy\n",
    "        model.eval()\n",
    "        for images, labels in val_loader:\n",
    "            images = images.to(device)\n",
    "            labels = labels.to(device)\n",
    "            labels = labels.squeeze().long()\n",
    "            \n",
    "            outputs = model(images)\n",
    "            loss = criterion(outputs, labels)\n",
    "            \n",
    "            predicted = torch.argmax(outputs.data, 1)\n",
    "            \n",
    "            n_val_samples += labels.size(0)\n",
    "            n_val_correct += (predicted == labels).sum().item()\n",
    "        \n",
    "        val_acc_dict[epoch] = n_val_correct / n_val_samples\n",
    "\n",
    "# Save model if enabled\n",
    "if SAVE_OR_LOAD == \"SAVE\":\n",
    "    torch.save(model.state_dict(), MODEL_PATH)\n",
    "    with open(MODEL_PATH + \"_train_data\", 'wb') as handle:\n",
    "        pickle.dump([train_loss_dict, train_acc_dict, val_acc_dict], handle, protocol=pickle.HIGHEST_PROTOCOL)\n",
    "    print(\"Saved model at \", MODEL_PATH)\n",
    "\n",
    "### Graph training loss over epochs\n",
    "epochs = range(0, NUM_EPOCHS)\n",
    "\n",
    "plt.plot(epochs, [x for x in train_loss_dict.values()], label='Training Loss')\n",
    "\n",
    "plt.title(MODEL_ARCH + ' Neural Network Training Loss')\n",
    "plt.xlabel('Epochs')\n",
    "plt.ylabel('Loss')\n",
    "\n",
    "plt.xticks(range(0, NUM_EPOCHS, 10))\n",
    "plt.legend(loc='best')\n",
    "plt.show()\n",
    "\n",
    "\n",
    "### Graph validation/testing accuracy\n",
    "plt.plot(epochs, [x for x in train_acc_dict.values()], label='Training Accuracy')\n",
    "plt.plot(epochs, val_acc_dict.values(), label='Validation Accuracy')\n",
    "\n",
    "plt.title(MODEL_ARCH + ' Training and Validation Accuracy')\n",
    "plt.xlabel('Epochs')\n",
    "plt.ylabel('Loss')\n",
    "\n",
    "plt.xticks(range(0, NUM_EPOCHS, 10))\n",
    "plt.legend(loc='best')\n",
    "plt.show()\n",
    "\n",
    "print(\"Final validation accuracy: \", val_acc_dict.get(NUM_EPOCHS - 1))\n",
    "\n",
    "\n",
    "### TESTING ###\n",
    "\n",
    "model.eval()\n",
    "y_true = torch.tensor([]).to(device)\n",
    "y_score = torch.tensor([]).to(device)\n",
    "y_output_labels = torch.tensor([]).to(device)\n",
    "\n",
    "with torch.no_grad():\n",
    "    for images, labels in test_loader:\n",
    "        images = images.to(device)\n",
    "        labels = labels.to(device)\n",
    "        \n",
    "        outputs = model(images)\n",
    "        y_output_labels = torch.cat((y_output_labels, torch.argmax(outputs.data, 1)), 0)\n",
    "\n",
    "        labels = labels.squeeze().long()\n",
    "        outputs = outputs.softmax(dim=-1)\n",
    "        labels = labels.float().resize_(len(labels), 1)\n",
    "\n",
    "        y_true = torch.cat((y_true.long(), labels), 0)\n",
    "        y_score = torch.cat((y_score, outputs), 0)\n",
    "\n",
    "    y_true = y_true.cpu().numpy()\n",
    "    y_score = y_score.detach().cpu().numpy()\n",
    "    y_output_labels = y_output_labels.detach().cpu().numpy()\n",
    "    \n",
    "    evaluator = medmnist.Evaluator('breastmnist', 'test')\n",
    "    metrics = evaluator.evaluate(y_score)\n",
    "    \n",
    "    y_true = y_true.squeeze()\n",
    "    y_score = y_score.squeeze()\n",
    "    y_score = y_score[:, -1]\n",
    "\n",
    "    f_score = f1_score(y_true, y_output_labels)\n",
    "\n",
    "    print('%s  Area under curve (AUC): %.4f  Accuracy (ACC): %.4f F1-Score: %.4f' % (\"Test metrics\", *metrics, f_score))\n"
   ]
  },
  {
   "cell_type": "code",
   "execution_count": null,
   "id": "f71e7a34-16af-4890-9e85-bcbb1d3efddc",
   "metadata": {},
   "outputs": [],
   "source": []
  }
 ],
 "metadata": {
  "kernelspec": {
   "display_name": "Python 3 (ipykernel)",
   "language": "python",
   "name": "python3"
  },
  "language_info": {
   "codemirror_mode": {
    "name": "ipython",
    "version": 3
   },
   "file_extension": ".py",
   "mimetype": "text/x-python",
   "name": "python",
   "nbconvert_exporter": "python",
   "pygments_lexer": "ipython3",
   "version": "3.11.9"
  }
 },
 "nbformat": 4,
 "nbformat_minor": 5
}
