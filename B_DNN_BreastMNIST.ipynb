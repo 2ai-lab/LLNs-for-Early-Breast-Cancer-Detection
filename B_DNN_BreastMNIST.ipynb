{
 "cells": [
  {
   "cell_type": "code",
   "execution_count": 3,
   "id": "94737ed8-4e39-4898-94ee-1a483526754e",
   "metadata": {},
   "outputs": [
    {
     "name": "stdout",
     "output_type": "stream",
     "text": [
      "Using device:  cpu\n",
      "Amount of trainable parameters:  935298\n"
     ]
    },
    {
     "name": "stderr",
     "output_type": "stream",
     "text": [
      "  0%|                                                                | 0/50 [00:00<?, ?it/s]\n",
      "5it [00:00, 110.19it/s]\n"
     ]
    },
    {
     "name": "stdout",
     "output_type": "stream",
     "text": [
      "Epoch [1/50], Step [5/5], Loss: 0.5861\n"
     ]
    },
    {
     "name": "stderr",
     "output_type": "stream",
     "text": [
      "\n",
      "5it [00:00, 129.82it/s]\n"
     ]
    },
    {
     "name": "stdout",
     "output_type": "stream",
     "text": [
      "Epoch [2/50], Step [5/5], Loss: 0.5693\n"
     ]
    },
    {
     "name": "stderr",
     "output_type": "stream",
     "text": [
      "\n",
      "5it [00:00, 131.07it/s]\n",
      "  6%|███▎                                                    | 3/50 [00:00<00:02, 21.33it/s]"
     ]
    },
    {
     "name": "stdout",
     "output_type": "stream",
     "text": [
      "Epoch [3/50], Step [5/5], Loss: 0.5596\n"
     ]
    },
    {
     "name": "stderr",
     "output_type": "stream",
     "text": [
      "\n",
      "5it [00:00, 134.78it/s]\n"
     ]
    },
    {
     "name": "stdout",
     "output_type": "stream",
     "text": [
      "Epoch [4/50], Step [5/5], Loss: 0.5047\n"
     ]
    },
    {
     "name": "stderr",
     "output_type": "stream",
     "text": [
      "\n",
      "5it [00:00, 126.61it/s]\n"
     ]
    },
    {
     "name": "stdout",
     "output_type": "stream",
     "text": [
      "Epoch [5/50], Step [5/5], Loss: 0.5506\n"
     ]
    },
    {
     "name": "stderr",
     "output_type": "stream",
     "text": [
      "\n",
      "5it [00:00, 133.88it/s]\n",
      " 12%|██████▋                                                 | 6/50 [00:00<00:01, 22.07it/s]"
     ]
    },
    {
     "name": "stdout",
     "output_type": "stream",
     "text": [
      "Epoch [6/50], Step [5/5], Loss: 0.5269\n"
     ]
    },
    {
     "name": "stderr",
     "output_type": "stream",
     "text": [
      "\n",
      "5it [00:00, 135.74it/s]\n"
     ]
    },
    {
     "name": "stdout",
     "output_type": "stream",
     "text": [
      "Epoch [7/50], Step [5/5], Loss: 0.6262\n"
     ]
    },
    {
     "name": "stderr",
     "output_type": "stream",
     "text": [
      "\n",
      "5it [00:00, 140.29it/s]\n"
     ]
    },
    {
     "name": "stdout",
     "output_type": "stream",
     "text": [
      "Epoch [8/50], Step [5/5], Loss: 0.5008\n"
     ]
    },
    {
     "name": "stderr",
     "output_type": "stream",
     "text": [
      "\n",
      "5it [00:00, 111.41it/s]\n",
      " 18%|██████████                                              | 9/50 [00:00<00:01, 21.25it/s]"
     ]
    },
    {
     "name": "stdout",
     "output_type": "stream",
     "text": [
      "Epoch [9/50], Step [5/5], Loss: 0.5509\n"
     ]
    },
    {
     "name": "stderr",
     "output_type": "stream",
     "text": [
      "\n",
      "5it [00:00, 113.48it/s]"
     ]
    },
    {
     "name": "stdout",
     "output_type": "stream",
     "text": [
      "Epoch [10/50], Step [5/5], Loss: 0.5608\n"
     ]
    },
    {
     "name": "stderr",
     "output_type": "stream",
     "text": [
      "\n",
      "\n",
      "5it [00:00, 116.74it/s]\n"
     ]
    },
    {
     "name": "stdout",
     "output_type": "stream",
     "text": [
      "Epoch [11/50], Step [5/5], Loss: 0.3903\n"
     ]
    },
    {
     "name": "stderr",
     "output_type": "stream",
     "text": [
      "\n",
      "5it [00:00, 120.26it/s]\n",
      " 24%|█████████████▏                                         | 12/50 [00:00<00:01, 20.78it/s]"
     ]
    },
    {
     "name": "stdout",
     "output_type": "stream",
     "text": [
      "Epoch [12/50], Step [5/5], Loss: 0.3440\n"
     ]
    },
    {
     "name": "stderr",
     "output_type": "stream",
     "text": [
      "\n",
      "5it [00:00, 87.84it/s]\n"
     ]
    },
    {
     "name": "stdout",
     "output_type": "stream",
     "text": [
      "Epoch [13/50], Step [5/5], Loss: 0.3008\n"
     ]
    },
    {
     "name": "stderr",
     "output_type": "stream",
     "text": [
      "\n",
      "5it [00:00, 122.38it/s]\n"
     ]
    },
    {
     "name": "stdout",
     "output_type": "stream",
     "text": [
      "Epoch [14/50], Step [5/5], Loss: 0.4312\n"
     ]
    },
    {
     "name": "stderr",
     "output_type": "stream",
     "text": [
      "\n",
      "5it [00:00, 122.67it/s]\n",
      " 30%|████████████████▌                                      | 15/50 [00:00<00:01, 19.86it/s]"
     ]
    },
    {
     "name": "stdout",
     "output_type": "stream",
     "text": [
      "Epoch [15/50], Step [5/5], Loss: 0.3483\n"
     ]
    },
    {
     "name": "stderr",
     "output_type": "stream",
     "text": [
      "\n",
      "5it [00:00, 133.42it/s]\n"
     ]
    },
    {
     "name": "stdout",
     "output_type": "stream",
     "text": [
      "Epoch [16/50], Step [5/5], Loss: 0.5066\n"
     ]
    },
    {
     "name": "stderr",
     "output_type": "stream",
     "text": [
      "\n",
      "5it [00:00, 135.84it/s]\n"
     ]
    },
    {
     "name": "stdout",
     "output_type": "stream",
     "text": [
      "Epoch [17/50], Step [5/5], Loss: 0.4753\n"
     ]
    },
    {
     "name": "stderr",
     "output_type": "stream",
     "text": [
      "\n",
      "5it [00:00, 132.87it/s]\n",
      " 36%|███████████████████▊                                   | 18/50 [00:00<00:01, 20.79it/s]"
     ]
    },
    {
     "name": "stdout",
     "output_type": "stream",
     "text": [
      "Epoch [18/50], Step [5/5], Loss: 0.4503\n"
     ]
    },
    {
     "name": "stderr",
     "output_type": "stream",
     "text": [
      "\n",
      "5it [00:00, 133.33it/s]\n"
     ]
    },
    {
     "name": "stdout",
     "output_type": "stream",
     "text": [
      "Epoch [19/50], Step [5/5], Loss: 0.5743\n"
     ]
    },
    {
     "name": "stderr",
     "output_type": "stream",
     "text": [
      "\n",
      "5it [00:00, 127.97it/s]\n"
     ]
    },
    {
     "name": "stdout",
     "output_type": "stream",
     "text": [
      "Epoch [20/50], Step [5/5], Loss: 0.3470\n"
     ]
    },
    {
     "name": "stderr",
     "output_type": "stream",
     "text": [
      "\n",
      "5it [00:00, 138.02it/s]\n",
      " 42%|███████████████████████                                | 21/50 [00:00<00:01, 21.43it/s]"
     ]
    },
    {
     "name": "stdout",
     "output_type": "stream",
     "text": [
      "Epoch [21/50], Step [5/5], Loss: 0.4449\n"
     ]
    },
    {
     "name": "stderr",
     "output_type": "stream",
     "text": [
      "\n",
      "5it [00:00, 135.63it/s]\n"
     ]
    },
    {
     "name": "stdout",
     "output_type": "stream",
     "text": [
      "Epoch [22/50], Step [5/5], Loss: 0.5089\n"
     ]
    },
    {
     "name": "stderr",
     "output_type": "stream",
     "text": [
      "\n",
      "5it [00:00, 137.75it/s]\n"
     ]
    },
    {
     "name": "stdout",
     "output_type": "stream",
     "text": [
      "Epoch [23/50], Step [5/5], Loss: 0.2543\n"
     ]
    },
    {
     "name": "stderr",
     "output_type": "stream",
     "text": [
      "\n",
      "5it [00:00, 129.51it/s]\n",
      " 48%|██████████████████████████▍                            | 24/50 [00:01<00:01, 21.90it/s]"
     ]
    },
    {
     "name": "stdout",
     "output_type": "stream",
     "text": [
      "Epoch [24/50], Step [5/5], Loss: 0.2934\n"
     ]
    },
    {
     "name": "stderr",
     "output_type": "stream",
     "text": [
      "\n",
      "5it [00:00, 128.46it/s]\n"
     ]
    },
    {
     "name": "stdout",
     "output_type": "stream",
     "text": [
      "Epoch [25/50], Step [5/5], Loss: 0.2333\n"
     ]
    },
    {
     "name": "stderr",
     "output_type": "stream",
     "text": [
      "\n",
      "5it [00:00, 131.89it/s]\n"
     ]
    },
    {
     "name": "stdout",
     "output_type": "stream",
     "text": [
      "Epoch [26/50], Step [5/5], Loss: 0.3296\n"
     ]
    },
    {
     "name": "stderr",
     "output_type": "stream",
     "text": [
      "\n",
      "5it [00:00, 136.89it/s]\n",
      " 54%|█████████████████████████████▋                         | 27/50 [00:01<00:01, 22.13it/s]"
     ]
    },
    {
     "name": "stdout",
     "output_type": "stream",
     "text": [
      "Epoch [27/50], Step [5/5], Loss: 0.1600\n"
     ]
    },
    {
     "name": "stderr",
     "output_type": "stream",
     "text": [
      "\n",
      "5it [00:00, 139.42it/s]\n"
     ]
    },
    {
     "name": "stdout",
     "output_type": "stream",
     "text": [
      "Epoch [28/50], Step [5/5], Loss: 0.2902\n"
     ]
    },
    {
     "name": "stderr",
     "output_type": "stream",
     "text": [
      "\n",
      "5it [00:00, 137.18it/s]\n"
     ]
    },
    {
     "name": "stdout",
     "output_type": "stream",
     "text": [
      "Epoch [29/50], Step [5/5], Loss: 0.2062\n"
     ]
    },
    {
     "name": "stderr",
     "output_type": "stream",
     "text": [
      "\n",
      "5it [00:00, 136.12it/s]\n",
      " 60%|█████████████████████████████████                      | 30/50 [00:01<00:00, 22.55it/s]"
     ]
    },
    {
     "name": "stdout",
     "output_type": "stream",
     "text": [
      "Epoch [30/50], Step [5/5], Loss: 0.2104\n"
     ]
    },
    {
     "name": "stderr",
     "output_type": "stream",
     "text": [
      "\n",
      "5it [00:00, 132.80it/s]\n"
     ]
    },
    {
     "name": "stdout",
     "output_type": "stream",
     "text": [
      "Epoch [31/50], Step [5/5], Loss: 0.2905\n"
     ]
    },
    {
     "name": "stderr",
     "output_type": "stream",
     "text": [
      "\n",
      "5it [00:00, 122.99it/s]\n"
     ]
    },
    {
     "name": "stdout",
     "output_type": "stream",
     "text": [
      "Epoch [32/50], Step [5/5], Loss: 0.3586\n"
     ]
    },
    {
     "name": "stderr",
     "output_type": "stream",
     "text": [
      "\n",
      "5it [00:00, 133.68it/s]\n",
      " 66%|████████████████████████████████████▎                  | 33/50 [00:01<00:00, 22.57it/s]"
     ]
    },
    {
     "name": "stdout",
     "output_type": "stream",
     "text": [
      "Epoch [33/50], Step [5/5], Loss: 0.2563\n"
     ]
    },
    {
     "name": "stderr",
     "output_type": "stream",
     "text": [
      "\n",
      "5it [00:00, 119.55it/s]\n"
     ]
    },
    {
     "name": "stdout",
     "output_type": "stream",
     "text": [
      "Epoch [34/50], Step [5/5], Loss: 0.1766\n"
     ]
    },
    {
     "name": "stderr",
     "output_type": "stream",
     "text": [
      "\n",
      "5it [00:00, 133.59it/s]\n"
     ]
    },
    {
     "name": "stdout",
     "output_type": "stream",
     "text": [
      "Epoch [35/50], Step [5/5], Loss: 0.1740\n"
     ]
    },
    {
     "name": "stderr",
     "output_type": "stream",
     "text": [
      "\n",
      "5it [00:00, 131.72it/s]\n",
      " 72%|███████████████████████████████████████▌               | 36/50 [00:01<00:00, 22.49it/s]"
     ]
    },
    {
     "name": "stdout",
     "output_type": "stream",
     "text": [
      "Epoch [36/50], Step [5/5], Loss: 0.2123\n"
     ]
    },
    {
     "name": "stderr",
     "output_type": "stream",
     "text": [
      "\n",
      "5it [00:00, 137.53it/s]\n"
     ]
    },
    {
     "name": "stdout",
     "output_type": "stream",
     "text": [
      "Epoch [37/50], Step [5/5], Loss: 0.1754\n"
     ]
    },
    {
     "name": "stderr",
     "output_type": "stream",
     "text": [
      "\n",
      "5it [00:00, 138.24it/s]\n"
     ]
    },
    {
     "name": "stdout",
     "output_type": "stream",
     "text": [
      "Epoch [38/50], Step [5/5], Loss: 0.1591\n"
     ]
    },
    {
     "name": "stderr",
     "output_type": "stream",
     "text": [
      "\n",
      "5it [00:00, 137.48it/s]\n",
      " 78%|██████████████████████████████████████████▉            | 39/50 [00:01<00:00, 22.86it/s]"
     ]
    },
    {
     "name": "stdout",
     "output_type": "stream",
     "text": [
      "Epoch [39/50], Step [5/5], Loss: 0.1208\n"
     ]
    },
    {
     "name": "stderr",
     "output_type": "stream",
     "text": [
      "\n",
      "5it [00:00, 127.49it/s]\n"
     ]
    },
    {
     "name": "stdout",
     "output_type": "stream",
     "text": [
      "Epoch [40/50], Step [5/5], Loss: 0.1078\n"
     ]
    },
    {
     "name": "stderr",
     "output_type": "stream",
     "text": [
      "\n",
      "5it [00:00, 134.10it/s]\n"
     ]
    },
    {
     "name": "stdout",
     "output_type": "stream",
     "text": [
      "Epoch [41/50], Step [5/5], Loss: 0.1518\n"
     ]
    },
    {
     "name": "stderr",
     "output_type": "stream",
     "text": [
      "\n",
      "5it [00:00, 138.95it/s]\n",
      " 84%|██████████████████████████████████████████████▏        | 42/50 [00:01<00:00, 22.90it/s]"
     ]
    },
    {
     "name": "stdout",
     "output_type": "stream",
     "text": [
      "Epoch [42/50], Step [5/5], Loss: 0.1503\n"
     ]
    },
    {
     "name": "stderr",
     "output_type": "stream",
     "text": [
      "\n",
      "5it [00:00, 140.08it/s]\n"
     ]
    },
    {
     "name": "stdout",
     "output_type": "stream",
     "text": [
      "Epoch [43/50], Step [5/5], Loss: 0.1460\n"
     ]
    },
    {
     "name": "stderr",
     "output_type": "stream",
     "text": [
      "\n",
      "5it [00:00, 138.21it/s]\n"
     ]
    },
    {
     "name": "stdout",
     "output_type": "stream",
     "text": [
      "Epoch [44/50], Step [5/5], Loss: 0.1720\n"
     ]
    },
    {
     "name": "stderr",
     "output_type": "stream",
     "text": [
      "\n",
      "5it [00:00, 136.82it/s]\n",
      " 90%|█████████████████████████████████████████████████▌     | 45/50 [00:02<00:00, 23.21it/s]"
     ]
    },
    {
     "name": "stdout",
     "output_type": "stream",
     "text": [
      "Epoch [45/50], Step [5/5], Loss: 0.1222\n"
     ]
    },
    {
     "name": "stderr",
     "output_type": "stream",
     "text": [
      "\n",
      "5it [00:00, 132.60it/s]\n"
     ]
    },
    {
     "name": "stdout",
     "output_type": "stream",
     "text": [
      "Epoch [46/50], Step [5/5], Loss: 0.1267\n"
     ]
    },
    {
     "name": "stderr",
     "output_type": "stream",
     "text": [
      "\n",
      "5it [00:00, 119.11it/s]\n"
     ]
    },
    {
     "name": "stdout",
     "output_type": "stream",
     "text": [
      "Epoch [47/50], Step [5/5], Loss: 0.0623\n"
     ]
    },
    {
     "name": "stderr",
     "output_type": "stream",
     "text": [
      "\n",
      "5it [00:00, 132.23it/s]\n",
      " 96%|████████████████████████████████████████████████████▊  | 48/50 [00:02<00:00, 22.85it/s]"
     ]
    },
    {
     "name": "stdout",
     "output_type": "stream",
     "text": [
      "Epoch [48/50], Step [5/5], Loss: 0.0895\n"
     ]
    },
    {
     "name": "stderr",
     "output_type": "stream",
     "text": [
      "\n",
      "5it [00:00, 116.11it/s]\n"
     ]
    },
    {
     "name": "stdout",
     "output_type": "stream",
     "text": [
      "Epoch [49/50], Step [5/5], Loss: 0.1080\n"
     ]
    },
    {
     "name": "stderr",
     "output_type": "stream",
     "text": [
      "\n",
      "5it [00:00, 122.76it/s]\n",
      "100%|███████████████████████████████████████████████████████| 50/50 [00:02<00:00, 22.06it/s]"
     ]
    },
    {
     "name": "stdout",
     "output_type": "stream",
     "text": [
      "Epoch [50/50], Step [5/5], Loss: 0.0662\n",
      "Saved model at  saved_models/dnn_trained_model\n"
     ]
    },
    {
     "name": "stderr",
     "output_type": "stream",
     "text": [
      "\n"
     ]
    },
    {
     "data": {
      "image/png": "[encoded data removed]",
      "text/plain": [
       "<Figure size 640x480 with 1 Axes>"
      ]
     },
     "metadata": {},
     "output_type": "display_data"
    },
    {
     "data": {
      "image/png": "[encoded data removed]",
      "text/plain": [
       "<Figure size 640x480 with 1 Axes>"
      ]
     },
     "metadata": {},
     "output_type": "display_data"
    },
    {
     "name": "stdout",
     "output_type": "stream",
     "text": [
      "Final validation accuracy:  0.8461538461538461\n",
      "Test metrics  Area under curve (AUC): 0.8513  Accuracy (ACC): 0.8077 F1-Score: 0.8718\n"
     ]
    }
   ],
   "source": [
    "import torch\n",
    "import torch.nn as nn\n",
    "import torch.nn.functional as F\n",
    "import torchvision\n",
    "import torchvision.transforms as transforms\n",
    "from tqdm import tqdm\n",
    "from DNN_model import DNN\n",
    "import medmnist\n",
    "import matplotlib.pyplot as plt\n",
    "import pickle\n",
    "from sklearn.metrics import f1_score\n",
    "\n",
    "device = torch.device('cuda' if torch.cuda.is_available() else 'cpu')\n",
    "print(\"Using device: \", device)\n",
    "\n",
    "\n",
    "### CONSTANTS ###\n",
    "NUM_EPOCHS = 50\n",
    "LEARNING_RATE = 0.0001\n",
    "BATCH_SIZE = 128\n",
    "NUM_OUTPUT_CLASSES = 2\n",
    "\n",
    "# Constants based on input size\n",
    "IMG_SIZE = 28 * 28  # MNIST images are 28x28 pixels\n",
    "\n",
    "\n",
    "### FLAGS ###\n",
    "MODEL_ARCH = \"DNN\"  # Model to use: \"DNN\"\n",
    "SAVE_OR_LOAD = \"SAVE\"  # \"SAVE\" to save, \"LOAD\" to load, None to disable\n",
    "MODEL_PATH = \"saved_models/dnn_trained_model\"  # Path to load/save\n",
    "\n",
    "# Load MedMNIST data\n",
    "cancer_info = medmnist.INFO[\"breastmnist\"]  # Binary classification 1x28x28\n",
    "labels = cancer_info['label']  # {'0': 'malignant', '1': 'normal, benign'}\n",
    "data_file = medmnist.BreastMNIST\n",
    "\n",
    "transform = transforms.Compose([transforms.ToTensor(), transforms.Normalize(mean=[0.3303], std=[0.2056])])\n",
    "\n",
    "train_set = data_file(split='train', transform=transform, download=False)  # Set download=True for first run if needed\n",
    "train_loader = torch.utils.data.DataLoader(dataset=train_set, batch_size=BATCH_SIZE, shuffle=True)\n",
    "test_set = data_file(split='test', transform=transform, download=False)\n",
    "test_loader = torch.utils.data.DataLoader(dataset=test_set, batch_size=BATCH_SIZE, shuffle=False)\n",
    "val_set = data_file(split='val', transform=transform, download=False)\n",
    "val_loader = torch.utils.data.DataLoader(dataset=val_set, batch_size=BATCH_SIZE, shuffle=False)\n",
    "\n",
    "\n",
    "# Initialize the DNN model\n",
    "model = DNN(IMG_SIZE).to(device)\n",
    "\n",
    "print(\"Amount of trainable parameters: \", sum(p.numel() for p in model.parameters() if p.requires_grad))\n",
    "\n",
    "\n",
    "### TRAINING SECTION ###\n",
    "\n",
    "# Loss and optimizer\n",
    "criterion = nn.CrossEntropyLoss()\n",
    "optimizer = torch.optim.Adam(model.parameters(), lr=LEARNING_RATE)  \n",
    "\n",
    "# Record loss/accuracy for graphs later\n",
    "train_loss_dict = {}\n",
    "train_acc_dict = {}\n",
    "val_acc_dict = {}\n",
    "\n",
    "if SAVE_OR_LOAD == \"LOAD\":\n",
    "    print(\"Loading presaved model at \", MODEL_PATH)\n",
    "    model.load_state_dict(torch.load(MODEL_PATH))\n",
    "    with open(MODEL_PATH + \"_train_data\", 'rb') as handle:\n",
    "        train_loss_dict, train_acc_dict, val_acc_dict = pickle.load(handle)\n",
    "else:\n",
    "    n_total_steps = len(train_loader)\n",
    "    for epoch in tqdm(range(NUM_EPOCHS)):\n",
    "\n",
    "        model.train()\n",
    "        # Keep track of metrics as we go along\n",
    "        train_loss, train_count = 0, 0\n",
    "        n_train_correct, n_train_samples = 0, 0\n",
    "        n_val_correct, n_val_samples = 0, 0\n",
    "\n",
    "        for i, (images, labels) in tqdm(enumerate(train_loader)):  \n",
    "            # Put data on GPU before running\n",
    "            images = images.to(device)\n",
    "            labels = labels.to(device)\n",
    "\n",
    "            labels = labels.squeeze().long()\n",
    "            \n",
    "            outputs = model(images)\n",
    "            loss = criterion(outputs, labels)\n",
    "\n",
    "            predicted = torch.argmax(outputs.data, 1)\n",
    "            \n",
    "            # Store training loss and accuracy\n",
    "            n_train_samples += labels.size(0)\n",
    "            n_train_correct += (predicted == labels).sum().item()\n",
    "            \n",
    "            train_loss += loss.item()\n",
    "            train_count += 1\n",
    "            \n",
    "            optimizer.zero_grad()\n",
    "            loss.backward()\n",
    "            optimizer.step()\n",
    "            \n",
    "            if (i+1) % 5 == 0:\n",
    "                print(f'Epoch [{epoch+1}/{NUM_EPOCHS}], Step [{i+1}/{n_total_steps}], Loss: {loss.item():.4f}')\n",
    "                \n",
    "        train_loss_dict[epoch] = train_loss / train_count\n",
    "        train_acc_dict[epoch] = n_train_correct / n_train_samples\n",
    "\n",
    "        # Test model on validation set every epoch and record accuracy\n",
    "        model.eval()\n",
    "        for images, labels in val_loader:\n",
    "            images = images.to(device)\n",
    "            labels = labels.to(device)\n",
    "            labels = labels.squeeze().long()\n",
    "            \n",
    "            outputs = model(images)\n",
    "            loss = criterion(outputs, labels)\n",
    "            \n",
    "            predicted = torch.argmax(outputs.data, 1)\n",
    "            \n",
    "            n_val_samples += labels.size(0)\n",
    "            n_val_correct += (predicted == labels).sum().item()\n",
    "        \n",
    "        val_acc_dict[epoch] = n_val_correct / n_val_samples\n",
    "\n",
    "# Save model if enabled\n",
    "if SAVE_OR_LOAD == \"SAVE\":\n",
    "    torch.save(model.state_dict(), MODEL_PATH)\n",
    "    with open(MODEL_PATH + \"_train_data\", 'wb') as handle:\n",
    "        pickle.dump([train_loss_dict, train_acc_dict, val_acc_dict], handle, protocol=pickle.HIGHEST_PROTOCOL)\n",
    "    print(\"Saved model at \", MODEL_PATH)\n",
    "\n",
    "### Graph training loss over epochs\n",
    "epochs = range(0, NUM_EPOCHS)\n",
    "\n",
    "plt.plot(epochs, [x for x in train_loss_dict.values()], label='Training Loss')\n",
    "\n",
    "plt.title(MODEL_ARCH + ' Neural Network Training Loss')\n",
    "plt.xlabel('Epochs')\n",
    "plt.ylabel('Loss')\n",
    "\n",
    "plt.xticks(range(0, NUM_EPOCHS, 10))\n",
    "plt.legend(loc='best')\n",
    "plt.show()\n",
    "\n",
    "\n",
    "### Graph validation/testing accuracy\n",
    "plt.plot(epochs, [x for x in train_acc_dict.values()], label='Training Accuracy')\n",
    "plt.plot(epochs, val_acc_dict.values(), label='Validation Accuracy')\n",
    "\n",
    "plt.title(MODEL_ARCH + ' Training and Validation Accuracy')\n",
    "plt.xlabel('Epochs')\n",
    "plt.ylabel('Loss')\n",
    "\n",
    "plt.xticks(range(0, NUM_EPOCHS, 10))\n",
    "plt.legend(loc='best')\n",
    "plt.show()\n",
    "\n",
    "print(\"Final validation accuracy: \", val_acc_dict.get(NUM_EPOCHS - 1))\n",
    "\n",
    "\n",
    "### TESTING ###\n",
    "\n",
    "model.eval()\n",
    "y_true = torch.tensor([]).to(device)\n",
    "y_score = torch.tensor([]).to(device)\n",
    "y_output_labels = torch.tensor([]).to(device)\n",
    "\n",
    "with torch.no_grad():\n",
    "    for images, labels in test_loader:\n",
    "        images = images.to(device)\n",
    "        labels = labels.to(device)\n",
    "        \n",
    "        outputs = model(images)\n",
    "        y_output_labels = torch.cat((y_output_labels, torch.argmax(outputs.data, 1)), 0)\n",
    "\n",
    "        labels = labels.squeeze().long()\n",
    "        outputs = outputs.softmax(dim=-1)\n",
    "        labels = labels.float().resize_(len(labels), 1)\n",
    "\n",
    "        y_true = torch.cat((y_true.long(), labels), 0)\n",
    "        y_score = torch.cat((y_score, outputs), 0)\n",
    "\n",
    "    y_true = y_true.cpu().numpy()\n",
    "    y_score = y_score.detach().cpu().numpy()\n",
    "    y_output_labels = y_output_labels.detach().cpu().numpy()\n",
    "    \n",
    "    evaluator = medmnist.Evaluator('breastmnist', 'test')\n",
    "    metrics = evaluator.evaluate(y_score)\n",
    "    \n",
    "    y_true = y_true.squeeze()\n",
    "    y_score = y_score.squeeze()\n",
    "    y_score = y_score[:, -1]\n",
    "\n",
    "    f_score = f1_score(y_true, y_output_labels)\n",
    "\n",
    "    print('%s  Area under curve (AUC): %.4f  Accuracy (ACC): %.4f F1-Score: %.4f' % (\"Test metrics\", *metrics, f_score))\n"
   ]
  },
  {
   "cell_type": "code",
   "execution_count": null,
   "id": "1a74c69a-cb71-4ac3-824b-524f8b7b9654",
   "metadata": {},
   "outputs": [],
   "source": []
  }
 ],
 "metadata": {
  "kernelspec": {
   "display_name": "Python 3 (ipykernel)",
   "language": "python",
   "name": "python3"
  },
  "language_info": {
   "codemirror_mode": {
    "name": "ipython",
    "version": 3
   },
   "file_extension": ".py",
   "mimetype": "text/x-python",
   "name": "python",
   "nbconvert_exporter": "python",
   "pygments_lexer": "ipython3",
   "version": "3.11.9"
  }
 },
 "nbformat": 4,
 "nbformat_minor": 5
}
